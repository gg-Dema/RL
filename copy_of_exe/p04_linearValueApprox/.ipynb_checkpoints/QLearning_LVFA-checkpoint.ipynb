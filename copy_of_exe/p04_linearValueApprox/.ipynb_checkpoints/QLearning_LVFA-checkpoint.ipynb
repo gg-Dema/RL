{
 "cells": [
  {
   "cell_type": "code",
   "execution_count": 3,
   "id": "0a87746a",
   "metadata": {},
   "outputs": [
    {
     "data": {
      "text/html": [
       "<style>.container { width:100% !important; }</style>"
      ],
      "text/plain": [
       "<IPython.core.display.HTML object>"
      ]
     },
     "metadata": {},
     "output_type": "display_data"
    }
   ],
   "source": [
    "from IPython.display import display, HTML\n",
    "display(HTML(\"<style>.container { width:100% !important; }</style>\"))"
   ]
  },
  {
   "cell_type": "code",
   "execution_count": 5,
   "id": "8131c5fb",
   "metadata": {},
   "outputs": [],
   "source": [
    "import sys\n",
    "sys.path.append(\"/home/dema/Sapienza/primo_2022/RL/venv/lib/python3.10/site-packages\")\n",
    "import gym\n",
    "import numpy as np\n",
    "import random"
   ]
  },
  {
   "cell_type": "code",
   "execution_count": 6,
   "id": "6582df99",
   "metadata": {},
   "outputs": [],
   "source": [
    "env = gym.make('CartPole-v1')"
   ]
  },
  {
   "cell_type": "code",
   "execution_count": 10,
   "id": "8b326880",
   "metadata": {},
   "outputs": [],
   "source": [
    "class VanillaFeatureEncoder:\n",
    "    def __init__(self, env):\n",
    "        self.env = env\n",
    "        \n",
    "    def encode(self, state):\n",
    "        return state\n",
    "    \n",
    "    @property\n",
    "    def size(self):\n",
    "        return self.env.observation_space.shape[0]"
   ]
  },
  {
   "cell_type": "code",
   "execution_count": 14,
   "id": "cf4ce94a",
   "metadata": {},
   "outputs": [],
   "source": [
    "class QLearning_LVFA:\n",
    "    def __init__(self, env, feature_encoder_cls, alpha=0.005, \n",
    "                 alpha_decay=0.9999, gamma=0.9999, epsilon=1., epsilon_decay=0.9999):\n",
    "        self.env = env\n",
    "        self.feature_encoder = feature_encoder_cls(env)\n",
    "        self.shape = (self.env.action_space.n, self.feature_encoder.size)\n",
    "        # self.weights = np.zeros(self.shape)\n",
    "        self.weights = np.random.random(self.shape)\n",
    "        self.alpha = alpha\n",
    "        self.alpha_decay = alpha_decay\n",
    "        self.gamma = gamma\n",
    "        self.epsilon = epsilon\n",
    "        self.epsilon_decay = epsilon_decay\n",
    "        \n",
    "    def Q(self, feats):\n",
    "        feats = feats.reshape(-1,1)\n",
    "        return 0\n",
    "        #return ?\n",
    "    \n",
    "        \n",
    "    def policy(self, state):\n",
    "        state_feats = self.feature_encoder.encode(state)\n",
    "        action = 0\n",
    "        # action = ?\n",
    "        return action\n",
    "    \n",
    "    def epsilon_greedy(self, state, epsilon=None):\n",
    "        if epsilon is None: epsilon = self.epsilon\n",
    "        \n",
    "        # if epsilon_greedy return random\n",
    "        # else return policy\n",
    "        \n",
    "        return 0\n",
    "    \n",
    "    def update_transition(self, s, action, s_prime, reward, done):\n",
    "        s_feats = self.feature_encoder.encode(s)\n",
    "        s_prime_feats = self.feature_encoder.encode(s_prime)\n",
    "        action_prime = self.epsilon_greedy(s_prime)\n",
    "        td_error = reward\n",
    "        \n",
    "        \n",
    "        delta_w = np.zeros(self.feature_encoder.size)\n",
    "        # delta_w = ?\n",
    "        \n",
    "        self.weights[action] += self.alpha*delta_w\n",
    "        \n",
    "\n",
    "    def update_alpha_epsilon(self):\n",
    "        self.epsilon = max(0.2, self.epsilon*self.epsilon_decay)\n",
    "        self.alpha = self.alpha*self.alpha_decay\n",
    "       \n",
    "        \n",
    "    def train(self, n_episodes=200, max_steps_per_episode=200):\n",
    "        for episode in range(n_episodes):\n",
    "            done = False\n",
    "            s, _ = env.reset()\n",
    "            for i in range(max_steps_per_episode):\n",
    "                \n",
    "                action = self.epsilon_greedy(s)\n",
    "                s_prime, reward, done, _, _ = self.env.step(action)\n",
    "                self.update_transition(s, action, s_prime, reward, done)\n",
    "                \n",
    "                s = s_prime\n",
    "                \n",
    "                if done: break\n",
    "                \n",
    "            self.update_alpha_epsilon()\n",
    "\n",
    "            if episode % 20 == 0:\n",
    "                print(episode, self.evaluate(), self.epsilon, self.alpha)\n",
    "                \n",
    "    def evaluate(self, env=None, n_episodes=10, max_steps_per_episode=200):\n",
    "        if env is None:\n",
    "            env = self.env\n",
    "            \n",
    "        rewards = []\n",
    "        for episode in range(n_episodes):\n",
    "            total_reward = 0\n",
    "            done = False\n",
    "            s, _ = env.reset()\n",
    "            for i in range(max_steps_per_episode):\n",
    "                action = 0\n",
    "                # action = ?\n",
    "                \n",
    "                s_prime, reward, done, _, _ = env.step(action)\n",
    "                \n",
    "                total_reward += reward\n",
    "                s = s_prime\n",
    "                if done: break\n",
    "            \n",
    "            rewards.append(total_reward)\n",
    "            \n",
    "        return np.mean(rewards)\n"
   ]
  },
  {
   "cell_type": "code",
   "execution_count": 15,
   "id": "853c4889",
   "metadata": {},
   "outputs": [
    {
     "name": "stdout",
     "output_type": "stream",
     "text": [
      "0 9.3 0.9999 0.0049995000000000005\n",
      "20 9.6 0.9979020986705985 0.004989510493352992\n",
      "40 9.5 0.9959081893501199 0.004979540946750601\n",
      "60 9.7 0.9939182640621268 0.004969591320310636\n",
      "80 9.2 0.9919323148461192 0.004959661574230599\n",
      "100 9.4 0.989950333757503 0.004949751668787519\n",
      "120 9.2 0.9879723128675584 0.0049398615643377955\n",
      "140 9.1 0.985998244263408 0.004929991221317044\n",
      "160 9.2 0.9840281200479851 0.004920140600239929\n",
      "180 9.7 0.982061932340002 0.004910309661700014\n"
     ]
    }
   ],
   "source": [
    "agent = QLearning_LVFA(env, VanillaFeatureEncoder)\n",
    "agent.train()"
   ]
  },
  {
   "cell_type": "code",
   "execution_count": 16,
   "id": "4a601aba",
   "metadata": {},
   "outputs": [
    {
     "data": {
      "text/plain": [
       "9.0"
      ]
     },
     "execution_count": 16,
     "metadata": {},
     "output_type": "execute_result"
    }
   ],
   "source": [
    "agent.evaluate()"
   ]
  },
  {
   "cell_type": "code",
   "execution_count": 17,
   "id": "55bd99f1",
   "metadata": {},
   "outputs": [
    {
     "data": {
      "text/plain": [
       "array([[0.9813034 , 0.52524298, 0.55870543, 0.00467152],\n",
       "       [0.90703909, 0.94690915, 0.01408159, 0.29391681]])"
      ]
     },
     "execution_count": 17,
     "metadata": {},
     "output_type": "execute_result"
    }
   ],
   "source": [
    "agent.weights"
   ]
  },
  {
   "cell_type": "code",
   "execution_count": null,
   "id": "c75cb131",
   "metadata": {},
   "outputs": [],
   "source": []
  }
 ],
 "metadata": {
  "kernelspec": {
   "display_name": "Python 3 (ipykernel)",
   "language": "python",
   "name": "python3"
  },
  "language_info": {
   "codemirror_mode": {
    "name": "ipython",
    "version": 3
   },
   "file_extension": ".py",
   "mimetype": "text/x-python",
   "name": "python",
   "nbconvert_exporter": "python",
   "pygments_lexer": "ipython3",
   "version": "3.10.6"
  }
 },
 "nbformat": 4,
 "nbformat_minor": 5
}
