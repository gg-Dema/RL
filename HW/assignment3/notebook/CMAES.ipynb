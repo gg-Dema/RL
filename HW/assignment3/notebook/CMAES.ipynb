{
 "cells": [
  {
   "cell_type": "code",
   "execution_count": 109,
   "metadata": {
    "colab": {
     "base_uri": "https://localhost:8080/"
    },
    "id": "l9g_9gdyCF2r",
    "outputId": "e4a149b2-be1f-4a3f-ebba-c11d615b3834"
   },
   "outputs": [
    {
     "name": "stdout",
     "output_type": "stream",
     "text": [
      "Looking in indexes: https://pypi.org/simple, https://us-python.pkg.dev/colab-wheels/public/simple/\n",
      "Requirement already satisfied: gym[box2d] in /usr/local/lib/python3.8/dist-packages (0.25.2)\n",
      "Requirement already satisfied: gym-notices>=0.0.4 in /usr/local/lib/python3.8/dist-packages (from gym[box2d]) (0.0.8)\n",
      "Requirement already satisfied: cloudpickle>=1.2.0 in /usr/local/lib/python3.8/dist-packages (from gym[box2d]) (1.5.0)\n",
      "Requirement already satisfied: numpy>=1.18.0 in /usr/local/lib/python3.8/dist-packages (from gym[box2d]) (1.21.6)\n",
      "Requirement already satisfied: importlib-metadata>=4.8.0 in /usr/local/lib/python3.8/dist-packages (from gym[box2d]) (4.13.0)\n",
      "Requirement already satisfied: box2d-py==2.3.5 in /usr/local/lib/python3.8/dist-packages (from gym[box2d]) (2.3.5)\n",
      "Requirement already satisfied: swig==4.* in /usr/local/lib/python3.8/dist-packages (from gym[box2d]) (4.1.0)\n",
      "Requirement already satisfied: pygame==2.1.0 in /usr/local/lib/python3.8/dist-packages (from gym[box2d]) (2.1.0)\n",
      "Requirement already satisfied: zipp>=0.5 in /usr/local/lib/python3.8/dist-packages (from importlib-metadata>=4.8.0->gym[box2d]) (3.11.0)\n",
      "Looking in indexes: https://pypi.org/simple, https://us-python.pkg.dev/colab-wheels/public/simple/\n",
      "Requirement already satisfied: cmaes in /usr/local/lib/python3.8/dist-packages (0.9.0)\n",
      "Requirement already satisfied: numpy in /usr/local/lib/python3.8/dist-packages (from cmaes) (1.21.6)\n"
     ]
    }
   ],
   "source": [
    "%pip install gym[box2d]\n",
    "%pip install cmaes"
   ]
  },
  {
   "cell_type": "code",
   "execution_count": 110,
   "metadata": {
    "id": "ExQCOELYC65v"
   },
   "outputs": [],
   "source": [
    "from cmaes import CMA\n",
    "from vision_module import VAE\n",
    "from memory_module import MDNRNN\n",
    "from torchvision import transforms\n",
    "import numpy as np\n",
    "import gym\n",
    "import torch"
   ]
  },
  {
   "cell_type": "code",
   "execution_count": 111,
   "metadata": {
    "colab": {
     "base_uri": "https://localhost:8080/"
    },
    "id": "r-cLLwbSCV8B",
    "outputId": "23f53d03-27a0-471e-f8ca-7d0487bba1bf"
   },
   "outputs": [
    {
     "name": "stderr",
     "output_type": "stream",
     "text": [
      "/usr/local/lib/python3.8/dist-packages/gym/core.py:317: DeprecationWarning: \u001b[33mWARN: Initializing wrapper in old step API which returns one bool instead of two. It is recommended to set `new_step_api=True` to use new step API. This will be the default behaviour in future.\u001b[0m\n",
      "  deprecation(\n",
      "/usr/local/lib/python3.8/dist-packages/gym/wrappers/step_api_compatibility.py:39: DeprecationWarning: \u001b[33mWARN: Initializing environment in old step API which returns one bool instead of two. It is recommended to set `new_step_api=True` to use new step API. This will be the default behaviour in future.\u001b[0m\n",
      "  deprecation(\n"
     ]
    }
   ],
   "source": [
    "# input: random weight, out: vect of action\n",
    "controller =torch.nn.Sequential(\n",
    "    torch.nn.Linear(288, 3),\n",
    "    torch.nn.Tanh()\n",
    ")\n",
    "\n",
    "controller.requires_grad_(False)\n",
    "w = controller[0].weight\n",
    "w = torch.cat((w[0], w[1], w[2]), 0)\n",
    "\n",
    "env = gym.make('CarRacing-v2', continuous=True, render_mode='rgb_array', domain_randomize=True)\n",
    "target = np.array([900])"
   ]
  },
  {
   "cell_type": "code",
   "execution_count": 112,
   "metadata": {
    "id": "r7xYKDv0bIj2"
   },
   "outputs": [],
   "source": [
    "def evaluate(cumulative_reward, target=np.array([900])):\n",
    "    return target - cumulative_reward"
   ]
  },
  {
   "cell_type": "code",
   "execution_count": 113,
   "metadata": {
    "id": "1flF5X4XbY2V"
   },
   "outputs": [],
   "source": [
    "bounds = np.array([[-1, 1] for i in range(len(w))])\n",
    "mean = np.random.random(len(w))\n",
    "\n",
    "optimizer = CMA(mean=mean,\n",
    "                bounds=bounds,\n",
    "                sigma=0.5,\n",
    "                n_max_resampling=1,\n",
    "                population_size=5)\n",
    "\n",
    "generations = 2"
   ]
  },
  {
   "cell_type": "code",
   "execution_count": 114,
   "metadata": {
    "id": "_aoGSgTlcPcP"
   },
   "outputs": [],
   "source": [
    "def rollouts(controller): \n",
    "  obs = env.reset()\n",
    "  rollouts.h = rollouts.memory.init_hidden(1)\n",
    "  done = False\n",
    "  cumulative_reward = 0\n",
    "  while not done: \n",
    "    obs = rollouts.transform(obs)\n",
    "\n",
    "    z, _, _ = rollouts.vision.encode(torch.unsqueeze(obs, 0)) \n",
    "    z_and_act = torch.unsqueeze( torch.cat( (z, rollouts.act), -1 ), -2)\n",
    "    temp = torch.cat( (z, rollouts.h[0].view(1, -1)), -1)\n",
    "    rollouts.act = controller(temp)\n",
    "    _, rollouts.h = rollouts.memory(z_and_act, rollouts.h)\n",
    "\n",
    "    obs, reward, done, _ = env.step(rollouts.act.view(-1).detach().numpy())\n",
    "    cumulative_reward += reward\n",
    "  \n",
    "  return cumulative_reward\n",
    "\n",
    "#--------------------------------------\n",
    "# set params funct\n",
    "#--------------------------------------\n",
    "\n",
    "rollouts.memory = MDNRNN()\n",
    "rollouts.vision = VAE()\n",
    "rollouts.act = torch.randn((1, 3))\n",
    "rollouts.transform = transforms.Compose([\n",
    "    transforms.ToPILImage(),\n",
    "    transforms.Grayscale(),\n",
    "    transforms.Resize(64),\n",
    "    transforms.ToTensor()\n",
    "    ])"
   ]
  },
  {
   "cell_type": "code",
   "execution_count": 115,
   "metadata": {
    "id": "rqmgkFZYDClS"
   },
   "outputs": [],
   "source": [
    "\n",
    "for g in range(generations):\n",
    "  solutions = []\n",
    "  for i in range(optimizer.population_size):\n",
    "    weight = optimizer.ask()\n",
    "    step = len(weight)//3\n",
    "    controller[0].weight[0] = torch.from_numpy(weight[0:step])\n",
    "    controller[0].weight[1] = torch.from_numpy(weight[step:step*2])\n",
    "    controller[0].weight[2] = torch.from_numpy(weight[step*2:])\n",
    "    score = evaluate(rollouts(controller))\n",
    "    solutions.append((weight, score))\n",
    "  optimizer.tell(solutions)\n"
   ]
  },
  {
   "cell_type": "code",
   "execution_count": 116,
   "metadata": {
    "colab": {
     "base_uri": "https://localhost:8080/",
     "height": 34
    },
    "id": "jJegqpNHGn22",
    "outputId": "8fdd499f-8a53-409a-94e4-28b674a1dc6b"
   },
   "outputs": [
    {
     "name": "stdout",
     "output_type": "stream",
     "text": [
      "[array([969.60486322]), array([970.50147493]), array([970.87378641]), array([971.22302158]), array([972.86821705])]\n"
     ]
    },
    {
     "data": {
      "application/javascript": [
       "\n",
       "    async function download(id, filename, size) {\n",
       "      if (!google.colab.kernel.accessAllowed) {\n",
       "        return;\n",
       "      }\n",
       "      const div = document.createElement('div');\n",
       "      const label = document.createElement('label');\n",
       "      label.textContent = `Downloading \"${filename}\": `;\n",
       "      div.appendChild(label);\n",
       "      const progress = document.createElement('progress');\n",
       "      progress.max = size;\n",
       "      div.appendChild(progress);\n",
       "      document.body.appendChild(div);\n",
       "\n",
       "      const buffers = [];\n",
       "      let downloaded = 0;\n",
       "\n",
       "      const channel = await google.colab.kernel.comms.open(id);\n",
       "      // Send a message to notify the kernel that we're ready.\n",
       "      channel.send({})\n",
       "\n",
       "      for await (const message of channel.messages) {\n",
       "        // Send a message to notify the kernel that we're ready.\n",
       "        channel.send({})\n",
       "        if (message.buffers) {\n",
       "          for (const buffer of message.buffers) {\n",
       "            buffers.push(buffer);\n",
       "            downloaded += buffer.byteLength;\n",
       "            progress.value = downloaded;\n",
       "          }\n",
       "        }\n",
       "      }\n",
       "      const blob = new Blob(buffers, {type: 'application/binary'});\n",
       "      const a = document.createElement('a');\n",
       "      a.href = window.URL.createObjectURL(blob);\n",
       "      a.download = filename;\n",
       "      div.appendChild(a);\n",
       "      a.click();\n",
       "      div.remove();\n",
       "    }\n",
       "  "
      ],
      "text/plain": [
       "<IPython.core.display.Javascript object>"
      ]
     },
     "metadata": {},
     "output_type": "display_data"
    },
    {
     "data": {
      "application/javascript": [
       "download(\"download_10570686-5e6f-4c81-885a-ba24eb066e1a\", \"controller.torch\", 5299)"
      ],
      "text/plain": [
       "<IPython.core.display.Javascript object>"
      ]
     },
     "metadata": {},
     "output_type": "display_data"
    }
   ],
   "source": [
    "score_last_run = [solutions[i][1] for i in range(len(solutions))]\n",
    "print(score_last_run)\n",
    "id = np.argmin(score_last_run)\n",
    "\n",
    "w = solutions[id][0]\n",
    "controller[0].weight[0] = torch.from_numpy(w[0:step])\n",
    "controller[0].weight[1] = torch.from_numpy(w[step:step*2])\n",
    "controller[0].weight[2] = torch.from_numpy(w[step*2:])\n",
    "\n",
    "\n",
    "from google.colab import files\n",
    "torch.save(controller, 'controller.torch')\n",
    "files.download('controller.torch')"
   ]
  }
 ],
 "metadata": {
  "colab": {
   "provenance": []
  },
  "kernelspec": {
   "display_name": "Python 3 (ipykernel)",
   "language": "python",
   "name": "python3"
  },
  "language_info": {
   "name": "python"
  }
 },
 "nbformat": 4,
 "nbformat_minor": 1
}
